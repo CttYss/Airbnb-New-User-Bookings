{
 "cells": [
  {
   "cell_type": "markdown",
   "metadata": {},
   "source": [
    "### Capstone Project 1 - Milestone Report\n",
    "\n"
   ]
  },
  {
   "cell_type": "markdown",
   "metadata": {},
   "source": [
    "#### OVERVIEW\n",
    "This Capstone project aims to solve the problem of trying to predict a newly registered Airbnb user‘s first choice of travel destination. By analyzing a variety of data such as user informations, country information and user browsing session records, the project aims at coming up with a model that could accurately detect where a user would book his/her first experience from an array of 34000+ cities across 190+ countries.\n",
    "\n",
    "\n",
    "\n",
    "#### THE CLIENT\n",
    "The Client in question is Airbnb, an online marketplace and hospitality service enabling people to lease or rent short-term lodging including vacation rentals, apartment rentals, homestays, hostels beds, or hotel rooms, Since its inception in 2008, Airbnb has expanded into more than 190 countries and 34,000 cities across the planet. It has disrupted the hotel industry and has become the premier choice of booking for many travelers across the globe with people booking a wide variety of spaces from tree houses to houseboats to apartments.\n",
    "\n",
    "When a user first signs up for Airbnb, it is in the user’s and Airbnb’s best interests to show homes and places in a city and country that the user intends on visiting. Since it is not possible to explicitly ask the user for this data and expect the user to update his/her preference (a user may just be browsing, s/he may change preference from time to time and may not update that in his/her profile, etc.), it would make sense to actually build a predictive model around the user’s browsing data and give predictions based on it."
   ]
  },
  {
   "cell_type": "markdown",
   "metadata": {},
   "source": [
    "#### THE DATA\n",
    "The data is already available to us in the form of a Kaggle competition hosted by Airbnb in 2015. Therefore, there isn’t a need for additional data mining or web scraping. The data will however have to be cleaned and wrangled before any analysis is performed on it.\n",
    "\n",
    "The data provided by Airbnb is in the form of CSV files and are listed below:\n",
    "\n",
    "1. train_users.csv​: The training set of users\n",
    "2. test_users.csv​: The test set of users. Contains user information such as gender, age,\n",
    "language, signup and device information\n",
    "3. sessions.csv​: Web sessions log for users. Contains time, type and details of various user\n",
    "actions.\n",
    "4. countries.csv​: Summary statistics of destination countries in this dataset and their locations\n",
    "5. age_gender_bkts.csv​: Summary statistics of users' age group, gender, country of destination\n",
    "6. sample_submission.csv​: Correct format for submitting predictions"
   ]
  },
  {
   "cell_type": "markdown",
   "metadata": {},
   "source": [
    "#### DATA WRANGLING\n",
    "##### Overview\n",
    "This section describes the various data cleaning and data wrangling methods applied on the\n",
    "Airbnb datasets to make it more suitable for further analysis. The following sections are divided based on the datasets provided.\n",
    "\n",
    "##### Age,​ ​Gender​ ​and​ ​Statistics\n",
    "1. The age bucket was converted into a mean age feature. This was done to treat age as a\n",
    "numerical feature. Furthermore, the numerical nature of the data will make it easier to\n",
    "perform one hot encoding and label encoding on this feature later.\n",
    "2. The year feature was dropped as it had only one value, 2015. Therefore, it was giving us\n",
    "no extra information and could be safely dropped.\n",
    "\n",
    "##### Countries\n",
    "The dataset is clean and extremely small. No wrangling or cleaning techniques were used on this dataset.\n",
    "\n",
    "##### Sessions\n",
    "1. All the unknown fields were converted into NaN to give it more semantic meaning.\n",
    "2. The missing second values were interpolated using the Pandas Series Interpolate\n",
    "function. This was done as this treatment did not significantly alter the summary statistics\n",
    "of seconds elapsed.\n",
    "\n",
    "##### Training Users\n",
    "1. All unknown values were converted into NaN to give it more semantic meaning.\n",
    "2. Samples for which age was greater than 120 was converted into NaN as these clearly\n",
    "represented polluted data.\n",
    "\n"
   ]
  },
  {
   "cell_type": "markdown",
   "metadata": {},
   "source": [
    "#### INFERENTIAL​ ​STATISTICS\n",
    "##### Overview\n",
    "This section presents the results of the inferential statistical methods applied on two hypothesis tests namely:\n",
    "1. Gender Preferences for Airbnb Bookings\n",
    "2. Whether there's significance difference between male and female mean age when choosing U.S. for country of destination.\n",
    "\n",
    "\n",
    "##### Hypothesis Testing： Is there a significant difference between males and females mean age?\n",
    "\n",
    "Null Hypothesis: There is no significant difference between males and females mean age when choosing U.S. for their country of destination.\n",
    "\n",
    "Alternate Hypothesis: There is a significant difference between males and females mean age when choosing U.S. for their country of destination. \n",
    "\n",
    "##### Result\n",
    "> Out of 22947 male age records, the mean age is 37.02897982307056 years old\n",
    "\n",
    "> Out of 26874 female age records, the mean age is 36.19301183299844 years old\n",
    "\n",
    "> The Mean difference between male and female age is 0.8359679900721204 \n",
    "\n",
    "> The P-value is 0.023657711289 and assume our significance level, α to be 0.05.\n",
    "\n",
    "Therefore: \n",
    "\n",
    "Ho: when choosing U.S. for country of destination the mean of female and male age are the same will be REJECTED.\n",
    "\n",
    "There is significance difference between male and female mean age when choosing U.S. for country of destination.\n"
   ]
  },
  {
   "cell_type": "markdown",
   "metadata": {
    "collapsed": true
   },
   "source": [
    "### Next steps:\n",
    "\n"
   ]
  },
  {
   "cell_type": "markdown",
   "metadata": {
    "collapsed": true
   },
   "source": [
    "Build baseline model notebook for CP1 using Logistic Regression,\n",
    "with hyper-parameter tuning (regularization parameter), L1\n",
    "and L2 regularization.  "
   ]
  },
  {
   "cell_type": "markdown",
   "metadata": {
    "collapsed": true
   },
   "source": [
    "add data story part to this.... for one instance I discovered this... include links to the data story... references include here as well... "
   ]
  },
  {
   "cell_type": "markdown",
   "metadata": {
    "collapsed": true
   },
   "source": [
    "Feature importance analysis, a clean data after wrangling, numeric features.. 20 countries logistic regression.. \n",
    "\n",
    "training set split into training and test... \n",
    "\n",
    "dummies - gender - 0,1 introducing new variables.. \n",
    "\n",
    "get start  on the final part.. \n",
    "\n",
    "\n",
    "\n"
   ]
  },
  {
   "cell_type": "markdown",
   "metadata": {
    "collapsed": true
   },
   "source": [
    "### Data Story Telling"
   ]
  },
  {
   "cell_type": "markdown",
   "metadata": {
    "collapsed": true
   },
   "source": [
    "##### This graph shows the destination country of users choice, and that more than half of the users did not pick a destination country.\n",
    "1.  57% of users in Train data set did not travel anywhere\n",
    "\n",
    "2.  28 % of users travelled in their home country i.e. U.S\n",
    "\n",
    "<img src='images/1.png'>"
   ]
  },
  {
   "cell_type": "markdown",
   "metadata": {
    "collapsed": true
   },
   "source": [
    "1.  Majority of the users are between age 25 and 40 years . [ 72% ]\n",
    "\n",
    "2.  There are some age values which are less than 18 years [ 0.006% ]\n",
    "\n",
    "<img src='images/2.png'>"
   ]
  },
  {
   "cell_type": "markdown",
   "metadata": {
    "collapsed": true
   },
   "source": [
    "User activity is low on saturday and sunday, bookings on Saturday and Sunday is lower than the others during the week\n",
    "\n",
    "<img src='images/3.png'>\n"
   ]
  },
  {
   "cell_type": "markdown",
   "metadata": {
    "collapsed": true
   },
   "source": [
    "1. Every year  beween September and October there is increase in Activity of users on Airbnb.\n",
    "\n",
    "2. Basic study on this lead to interesting phenomena that users are trying to book for Superbowl , Labor day.\n",
    "\n",
    "<img src='images/4.png'>"
   ]
  },
  {
   "cell_type": "code",
   "execution_count": null,
   "metadata": {
    "collapsed": true
   },
   "outputs": [],
   "source": []
  },
  {
   "cell_type": "code",
   "execution_count": null,
   "metadata": {
    "collapsed": true
   },
   "outputs": [],
   "source": []
  }
 ],
 "metadata": {
  "kernelspec": {
   "display_name": "Python 3",
   "language": "python",
   "name": "python3"
  },
  "language_info": {
   "codemirror_mode": {
    "name": "ipython",
    "version": 3
   },
   "file_extension": ".py",
   "mimetype": "text/x-python",
   "name": "python",
   "nbconvert_exporter": "python",
   "pygments_lexer": "ipython3",
   "version": "3.6.2"
  }
 },
 "nbformat": 4,
 "nbformat_minor": 2
}
