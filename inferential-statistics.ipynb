{
 "cells": [
  {
   "cell_type": "markdown",
   "metadata": {},
   "source": [
    "## Springboard Capstone Project 1\n",
    "\n",
    "## Airbnb New User Bookings"
   ]
  },
  {
   "cell_type": "markdown",
   "metadata": {},
   "source": [
    "### Inferential Statistics\n",
    "\n",
    "Gender Preference for Airbnb Bookings\n",
    "In this section, we will be applying statistical tools to gain some inferences and insights into the kind of data we are dealing with and disovering relationships between various features of our dataset.\n",
    "\n",
    "Does the gender of a person affect the first country s/he books an Airbnb in? To answer this question we will have to test the relationship between two categorical variables: Gender and Destination Country. Since the number of destination countries is multivariate, the Chi Square Square Significance Test.\n",
    "\n",
    "We will consider only those users who have enlisted their gender as male or female. Unknown and other genders are not included in this analysis.\n",
    "\n",
    "We do not consider users who have never booked an Airbnb or have booked in a country not enlisted as a class (NDF and Other)."
   ]
  },
  {
   "cell_type": "code",
   "execution_count": 1,
   "metadata": {
    "collapsed": true
   },
   "outputs": [],
   "source": [
    "%matplotlib inline\n",
    "import pandas as pd\n",
    "import numpy as np\n",
    "from scipy import stats\n",
    "import seaborn as sns\n",
    "import matplotlib.pyplot as plt\n",
    "from sklearn.ensemble import RandomForestClassifier, VotingClassifier\n",
    "from sklearn.neighbors import KNeighborsClassifier\n",
    "from sklearn.model_selection import train_test_split, GridSearchCV\n",
    "from sklearn.feature_selection import RFE\n",
    "from sklearn.preprocessing import StandardScaler\n",
    "from sklearn.ensemble import GradientBoostingClassifier\n",
    "from sklearn.linear_model import LogisticRegression"
   ]
  },
  {
   "cell_type": "code",
   "execution_count": 2,
   "metadata": {
    "collapsed": true
   },
   "outputs": [],
   "source": [
    "sns.set_style('whitegrid')\n",
    "plt.style.use('ggplot')\n",
    "%matplotlib inline"
   ]
  },
  {
   "cell_type": "code",
   "execution_count": 4,
   "metadata": {
    "collapsed": true
   },
   "outputs": [],
   "source": [
    "# Load the data into DataFrames\n",
    "df_train = pd.read_csv('train_users_2.csv')\n",
    "df_test = pd.read_csv('test_users.csv')\n",
    "sessions = pd.read_csv('sessions.csv')\n",
    "df_agb = pd.read_csv('age_gender_bkts.csv')\n",
    "countries = pd.read_csv('countries.csv')"
   ]
  },
  {
   "cell_type": "code",
   "execution_count": 5,
   "metadata": {},
   "outputs": [
    {
     "data": {
      "text/html": [
       "<div>\n",
       "<style>\n",
       "    .dataframe thead tr:only-child th {\n",
       "        text-align: right;\n",
       "    }\n",
       "\n",
       "    .dataframe thead th {\n",
       "        text-align: left;\n",
       "    }\n",
       "\n",
       "    .dataframe tbody tr th {\n",
       "        vertical-align: top;\n",
       "    }\n",
       "</style>\n",
       "<table border=\"1\" class=\"dataframe\">\n",
       "  <thead>\n",
       "    <tr style=\"text-align: right;\">\n",
       "      <th></th>\n",
       "      <th>age_bucket</th>\n",
       "      <th>country_destination</th>\n",
       "      <th>gender</th>\n",
       "      <th>population_in_thousands</th>\n",
       "      <th>year</th>\n",
       "    </tr>\n",
       "  </thead>\n",
       "  <tbody>\n",
       "  </tbody>\n",
       "</table>\n",
       "</div>"
      ],
      "text/plain": [
       "Empty DataFrame\n",
       "Columns: [age_bucket, country_destination, gender, population_in_thousands, year]\n",
       "Index: []"
      ]
     },
     "execution_count": 5,
     "metadata": {},
     "output_type": "execute_result"
    }
   ],
   "source": [
    "df_agb[df_agb['year'].isnull()]\n",
    "# there's no null value in age_gender_bkts.csv"
   ]
  },
  {
   "cell_type": "code",
   "execution_count": 6,
   "metadata": {},
   "outputs": [
    {
     "data": {
      "text/plain": [
       "male      210\n",
       "female    210\n",
       "Name: gender, dtype: int64"
      ]
     },
     "execution_count": 6,
     "metadata": {},
     "output_type": "execute_result"
    }
   ],
   "source": [
    "df_agb['gender'].value_counts()"
   ]
  },
  {
   "cell_type": "code",
   "execution_count": 30,
   "metadata": {},
   "outputs": [
    {
     "data": {
      "text/plain": [
       "90-94    20\n",
       "10-14    20\n",
       "95-99    20\n",
       "45-49    20\n",
       "20-24    20\n",
       "55-59    20\n",
       "65-69    20\n",
       "60-64    20\n",
       "85-89    20\n",
       "75-79    20\n",
       "35-39    20\n",
       "0-4      20\n",
       "50-54    20\n",
       "80-84    20\n",
       "25-29    20\n",
       "100+     20\n",
       "15-19    20\n",
       "5-9      20\n",
       "40-44    20\n",
       "70-74    20\n",
       "30-34    20\n",
       "Name: age_bucket, dtype: int64"
      ]
     },
     "execution_count": 30,
     "metadata": {},
     "output_type": "execute_result"
    }
   ],
   "source": [
    "df_agb['age_bucket'].value_counts()"
   ]
  },
  {
   "cell_type": "markdown",
   "metadata": {},
   "source": [
    "The gender can also be turned into a categorical binary variable. Let us represent male with 0 and female with 1. Again, we do this just in case we require this variable to function as a numerical quantity. It must be stated that there is no immediate need for it and therefore, can be skipped."
   ]
  },
  {
   "cell_type": "code",
   "execution_count": 8,
   "metadata": {},
   "outputs": [
    {
     "data": {
      "text/plain": [
       "1    210\n",
       "0    210\n",
       "Name: gender, dtype: int64"
      ]
     },
     "execution_count": 8,
     "metadata": {},
     "output_type": "execute_result"
    }
   ],
   "source": [
    "df_agb['gender'] = df_agb['gender'].apply(lambda x: 0 if x == 'male' else 1)\n",
    "df_agb['gender'].value_counts()"
   ]
  },
  {
   "cell_type": "code",
   "execution_count": 9,
   "metadata": {},
   "outputs": [
    {
     "data": {
      "text/plain": [
       "2015.0    420\n",
       "Name: year, dtype: int64"
      ]
     },
     "execution_count": 9,
     "metadata": {},
     "output_type": "execute_result"
    }
   ],
   "source": [
    "df_agb['year'].value_counts()"
   ]
  },
  {
   "cell_type": "code",
   "execution_count": 10,
   "metadata": {},
   "outputs": [
    {
     "data": {
      "text/html": [
       "<div>\n",
       "<style>\n",
       "    .dataframe thead tr:only-child th {\n",
       "        text-align: right;\n",
       "    }\n",
       "\n",
       "    .dataframe thead th {\n",
       "        text-align: left;\n",
       "    }\n",
       "\n",
       "    .dataframe tbody tr th {\n",
       "        vertical-align: top;\n",
       "    }\n",
       "</style>\n",
       "<table border=\"1\" class=\"dataframe\">\n",
       "  <thead>\n",
       "    <tr style=\"text-align: right;\">\n",
       "      <th></th>\n",
       "      <th>age_bucket</th>\n",
       "      <th>country_destination</th>\n",
       "      <th>gender</th>\n",
       "      <th>population_in_thousands</th>\n",
       "    </tr>\n",
       "  </thead>\n",
       "  <tbody>\n",
       "    <tr>\n",
       "      <th>0</th>\n",
       "      <td>100+</td>\n",
       "      <td>AU</td>\n",
       "      <td>0</td>\n",
       "      <td>1.0</td>\n",
       "    </tr>\n",
       "    <tr>\n",
       "      <th>1</th>\n",
       "      <td>95-99</td>\n",
       "      <td>AU</td>\n",
       "      <td>0</td>\n",
       "      <td>9.0</td>\n",
       "    </tr>\n",
       "    <tr>\n",
       "      <th>2</th>\n",
       "      <td>90-94</td>\n",
       "      <td>AU</td>\n",
       "      <td>0</td>\n",
       "      <td>47.0</td>\n",
       "    </tr>\n",
       "    <tr>\n",
       "      <th>3</th>\n",
       "      <td>85-89</td>\n",
       "      <td>AU</td>\n",
       "      <td>0</td>\n",
       "      <td>118.0</td>\n",
       "    </tr>\n",
       "    <tr>\n",
       "      <th>4</th>\n",
       "      <td>80-84</td>\n",
       "      <td>AU</td>\n",
       "      <td>0</td>\n",
       "      <td>199.0</td>\n",
       "    </tr>\n",
       "  </tbody>\n",
       "</table>\n",
       "</div>"
      ],
      "text/plain": [
       "  age_bucket country_destination  gender  population_in_thousands\n",
       "0       100+                  AU       0                      1.0\n",
       "1      95-99                  AU       0                      9.0\n",
       "2      90-94                  AU       0                     47.0\n",
       "3      85-89                  AU       0                    118.0\n",
       "4      80-84                  AU       0                    199.0"
      ]
     },
     "execution_count": 10,
     "metadata": {},
     "output_type": "execute_result"
    }
   ],
   "source": [
    "df_agb = df_agb.drop('year', axis=1)\n",
    "df_agb.head()"
   ]
  },
  {
   "cell_type": "code",
   "execution_count": 42,
   "metadata": {},
   "outputs": [
    {
     "data": {
      "text/html": [
       "<div>\n",
       "<style>\n",
       "    .dataframe thead tr:only-child th {\n",
       "        text-align: right;\n",
       "    }\n",
       "\n",
       "    .dataframe thead th {\n",
       "        text-align: left;\n",
       "    }\n",
       "\n",
       "    .dataframe tbody tr th {\n",
       "        vertical-align: top;\n",
       "    }\n",
       "</style>\n",
       "<table border=\"1\" class=\"dataframe\">\n",
       "  <thead>\n",
       "    <tr style=\"text-align: right;\">\n",
       "      <th></th>\n",
       "      <th>id</th>\n",
       "      <th>date_account_created</th>\n",
       "      <th>timestamp_first_active</th>\n",
       "      <th>date_first_booking</th>\n",
       "      <th>gender</th>\n",
       "      <th>age</th>\n",
       "      <th>signup_method</th>\n",
       "      <th>signup_flow</th>\n",
       "      <th>language</th>\n",
       "      <th>affiliate_channel</th>\n",
       "      <th>affiliate_provider</th>\n",
       "      <th>first_affiliate_tracked</th>\n",
       "      <th>signup_app</th>\n",
       "      <th>first_device_type</th>\n",
       "      <th>first_browser</th>\n",
       "      <th>country_destination</th>\n",
       "    </tr>\n",
       "  </thead>\n",
       "  <tbody>\n",
       "    <tr>\n",
       "      <th>0</th>\n",
       "      <td>gxn3p5htnn</td>\n",
       "      <td>2010-06-28</td>\n",
       "      <td>20090319043255</td>\n",
       "      <td>NaN</td>\n",
       "      <td>-unknown-</td>\n",
       "      <td>NaN</td>\n",
       "      <td>facebook</td>\n",
       "      <td>0</td>\n",
       "      <td>en</td>\n",
       "      <td>direct</td>\n",
       "      <td>direct</td>\n",
       "      <td>untracked</td>\n",
       "      <td>Web</td>\n",
       "      <td>Mac Desktop</td>\n",
       "      <td>Chrome</td>\n",
       "      <td>NDF</td>\n",
       "    </tr>\n",
       "    <tr>\n",
       "      <th>1</th>\n",
       "      <td>820tgsjxq7</td>\n",
       "      <td>2011-05-25</td>\n",
       "      <td>20090523174809</td>\n",
       "      <td>NaN</td>\n",
       "      <td>MALE</td>\n",
       "      <td>38.0</td>\n",
       "      <td>facebook</td>\n",
       "      <td>0</td>\n",
       "      <td>en</td>\n",
       "      <td>seo</td>\n",
       "      <td>google</td>\n",
       "      <td>untracked</td>\n",
       "      <td>Web</td>\n",
       "      <td>Mac Desktop</td>\n",
       "      <td>Chrome</td>\n",
       "      <td>NDF</td>\n",
       "    </tr>\n",
       "    <tr>\n",
       "      <th>2</th>\n",
       "      <td>4ft3gnwmtx</td>\n",
       "      <td>2010-09-28</td>\n",
       "      <td>20090609231247</td>\n",
       "      <td>2010-08-02</td>\n",
       "      <td>FEMALE</td>\n",
       "      <td>56.0</td>\n",
       "      <td>basic</td>\n",
       "      <td>3</td>\n",
       "      <td>en</td>\n",
       "      <td>direct</td>\n",
       "      <td>direct</td>\n",
       "      <td>untracked</td>\n",
       "      <td>Web</td>\n",
       "      <td>Windows Desktop</td>\n",
       "      <td>IE</td>\n",
       "      <td>US</td>\n",
       "    </tr>\n",
       "    <tr>\n",
       "      <th>3</th>\n",
       "      <td>bjjt8pjhuk</td>\n",
       "      <td>2011-12-05</td>\n",
       "      <td>20091031060129</td>\n",
       "      <td>2012-09-08</td>\n",
       "      <td>FEMALE</td>\n",
       "      <td>42.0</td>\n",
       "      <td>facebook</td>\n",
       "      <td>0</td>\n",
       "      <td>en</td>\n",
       "      <td>direct</td>\n",
       "      <td>direct</td>\n",
       "      <td>untracked</td>\n",
       "      <td>Web</td>\n",
       "      <td>Mac Desktop</td>\n",
       "      <td>Firefox</td>\n",
       "      <td>other</td>\n",
       "    </tr>\n",
       "    <tr>\n",
       "      <th>4</th>\n",
       "      <td>87mebub9p4</td>\n",
       "      <td>2010-09-14</td>\n",
       "      <td>20091208061105</td>\n",
       "      <td>2010-02-18</td>\n",
       "      <td>-unknown-</td>\n",
       "      <td>41.0</td>\n",
       "      <td>basic</td>\n",
       "      <td>0</td>\n",
       "      <td>en</td>\n",
       "      <td>direct</td>\n",
       "      <td>direct</td>\n",
       "      <td>untracked</td>\n",
       "      <td>Web</td>\n",
       "      <td>Mac Desktop</td>\n",
       "      <td>Chrome</td>\n",
       "      <td>US</td>\n",
       "    </tr>\n",
       "  </tbody>\n",
       "</table>\n",
       "</div>"
      ],
      "text/plain": [
       "           id date_account_created  timestamp_first_active date_first_booking  \\\n",
       "0  gxn3p5htnn           2010-06-28          20090319043255                NaN   \n",
       "1  820tgsjxq7           2011-05-25          20090523174809                NaN   \n",
       "2  4ft3gnwmtx           2010-09-28          20090609231247         2010-08-02   \n",
       "3  bjjt8pjhuk           2011-12-05          20091031060129         2012-09-08   \n",
       "4  87mebub9p4           2010-09-14          20091208061105         2010-02-18   \n",
       "\n",
       "      gender   age signup_method  signup_flow language affiliate_channel  \\\n",
       "0  -unknown-   NaN      facebook            0       en            direct   \n",
       "1       MALE  38.0      facebook            0       en               seo   \n",
       "2     FEMALE  56.0         basic            3       en            direct   \n",
       "3     FEMALE  42.0      facebook            0       en            direct   \n",
       "4  -unknown-  41.0         basic            0       en            direct   \n",
       "\n",
       "  affiliate_provider first_affiliate_tracked signup_app first_device_type  \\\n",
       "0             direct               untracked        Web       Mac Desktop   \n",
       "1             google               untracked        Web       Mac Desktop   \n",
       "2             direct               untracked        Web   Windows Desktop   \n",
       "3             direct               untracked        Web       Mac Desktop   \n",
       "4             direct               untracked        Web       Mac Desktop   \n",
       "\n",
       "  first_browser country_destination  \n",
       "0        Chrome                 NDF  \n",
       "1        Chrome                 NDF  \n",
       "2            IE                  US  \n",
       "3       Firefox               other  \n",
       "4        Chrome                  US  "
      ]
     },
     "execution_count": 42,
     "metadata": {},
     "output_type": "execute_result"
    }
   ],
   "source": [
    "df_train = pd.read_csv('train_users_2.csv')\n",
    "df_train.head()"
   ]
  },
  {
   "cell_type": "code",
   "execution_count": 43,
   "metadata": {
    "collapsed": true
   },
   "outputs": [],
   "source": [
    "# replace these values with NaN to denote that we do not know the real age of these people.\n",
    "df_train['age'] = df_train['age'].apply(lambda x: np.nan if x > 120 else x)"
   ]
  },
  {
   "cell_type": "code",
   "execution_count": 44,
   "metadata": {},
   "outputs": [
    {
     "data": {
      "text/html": [
       "<div>\n",
       "<style>\n",
       "    .dataframe thead tr:only-child th {\n",
       "        text-align: right;\n",
       "    }\n",
       "\n",
       "    .dataframe thead th {\n",
       "        text-align: left;\n",
       "    }\n",
       "\n",
       "    .dataframe tbody tr th {\n",
       "        vertical-align: top;\n",
       "    }\n",
       "</style>\n",
       "<table border=\"1\" class=\"dataframe\">\n",
       "  <thead>\n",
       "    <tr style=\"text-align: right;\">\n",
       "      <th></th>\n",
       "      <th>id</th>\n",
       "      <th>gender</th>\n",
       "      <th>country_destination</th>\n",
       "      <th>age</th>\n",
       "    </tr>\n",
       "  </thead>\n",
       "  <tbody>\n",
       "    <tr>\n",
       "      <th>2</th>\n",
       "      <td>4ft3gnwmtx</td>\n",
       "      <td>FEMALE</td>\n",
       "      <td>US</td>\n",
       "      <td>56.0</td>\n",
       "    </tr>\n",
       "    <tr>\n",
       "      <th>4</th>\n",
       "      <td>87mebub9p4</td>\n",
       "      <td>-unknown-</td>\n",
       "      <td>US</td>\n",
       "      <td>41.0</td>\n",
       "    </tr>\n",
       "    <tr>\n",
       "      <th>6</th>\n",
       "      <td>lsw9q7uk0j</td>\n",
       "      <td>FEMALE</td>\n",
       "      <td>US</td>\n",
       "      <td>46.0</td>\n",
       "    </tr>\n",
       "    <tr>\n",
       "      <th>7</th>\n",
       "      <td>0d01nltbrs</td>\n",
       "      <td>FEMALE</td>\n",
       "      <td>US</td>\n",
       "      <td>47.0</td>\n",
       "    </tr>\n",
       "    <tr>\n",
       "      <th>8</th>\n",
       "      <td>a1vcnhxeij</td>\n",
       "      <td>FEMALE</td>\n",
       "      <td>US</td>\n",
       "      <td>50.0</td>\n",
       "    </tr>\n",
       "  </tbody>\n",
       "</table>\n",
       "</div>"
      ],
      "text/plain": [
       "           id     gender country_destination   age\n",
       "2  4ft3gnwmtx     FEMALE                  US  56.0\n",
       "4  87mebub9p4  -unknown-                  US  41.0\n",
       "6  lsw9q7uk0j     FEMALE                  US  46.0\n",
       "7  0d01nltbrs     FEMALE                  US  47.0\n",
       "8  a1vcnhxeij     FEMALE                  US  50.0"
      ]
     },
     "execution_count": 44,
     "metadata": {},
     "output_type": "execute_result"
    }
   ],
   "source": [
    "df_inf = df_train[(df_train['age'].notnull()) & (df_train['country_destination'] != 'NDF') & (df_train['country_destination'] != 'other') & (df_train['gender'] != 'OTHER') & (df_train['gender'].notnull())]\n",
    "df_inf = df_inf[['id', 'gender', 'country_destination', 'age']]\n",
    "df_inf.head()"
   ]
  },
  {
   "cell_type": "code",
   "execution_count": 103,
   "metadata": {},
   "outputs": [
    {
     "data": {
      "text/plain": [
       "US    48241\n",
       "FR     3681\n",
       "IT     2018\n",
       "GB     1761\n",
       "ES     1693\n",
       "CA     1066\n",
       "DE      841\n",
       "NL      594\n",
       "AU      434\n",
       "PT      156\n",
       "Name: country_destination, dtype: int64"
      ]
     },
     "execution_count": 103,
     "metadata": {},
     "output_type": "execute_result"
    }
   ],
   "source": [
    "df_inf['country_destination'].value_counts()"
   ]
  },
  {
   "cell_type": "code",
   "execution_count": 45,
   "metadata": {},
   "outputs": [
    {
     "data": {
      "text/plain": [
       "FEMALE       26874\n",
       "MALE         22947\n",
       "-unknown-    10664\n",
       "Name: gender, dtype: int64"
      ]
     },
     "execution_count": 45,
     "metadata": {},
     "output_type": "execute_result"
    }
   ],
   "source": [
    "df_inf['gender'].value_counts()"
   ]
  },
  {
   "cell_type": "code",
   "execution_count": 46,
   "metadata": {},
   "outputs": [
    {
     "data": {
      "text/plain": [
       "30.0     3243\n",
       "31.0     3115\n",
       "32.0     3080\n",
       "29.0     3065\n",
       "28.0     3046\n",
       "27.0     2935\n",
       "33.0     2868\n",
       "34.0     2590\n",
       "26.0     2490\n",
       "35.0     2409\n",
       "25.0     2085\n",
       "36.0     2078\n",
       "37.0     1821\n",
       "38.0     1686\n",
       "24.0     1533\n",
       "39.0     1436\n",
       "40.0     1291\n",
       "41.0     1208\n",
       "23.0     1128\n",
       "42.0     1013\n",
       "44.0      973\n",
       "45.0      970\n",
       "43.0      954\n",
       "46.0      849\n",
       "22.0      760\n",
       "105.0     738\n",
       "47.0      728\n",
       "50.0      619\n",
       "48.0      611\n",
       "51.0      598\n",
       "         ... \n",
       "5.0         9\n",
       "85.0        8\n",
       "100.0       8\n",
       "83.0        8\n",
       "101.0       7\n",
       "82.0        7\n",
       "93.0        6\n",
       "107.0       6\n",
       "84.0        5\n",
       "91.0        4\n",
       "17.0        4\n",
       "90.0        4\n",
       "103.0       4\n",
       "15.0        3\n",
       "2.0         3\n",
       "88.0        3\n",
       "99.0        3\n",
       "89.0        3\n",
       "115.0       3\n",
       "108.0       3\n",
       "109.0       3\n",
       "106.0       2\n",
       "98.0        2\n",
       "96.0        2\n",
       "97.0        2\n",
       "111.0       2\n",
       "113.0       1\n",
       "16.0        1\n",
       "92.0        1\n",
       "4.0         1\n",
       "Name: age, Length: 101, dtype: int64"
      ]
     },
     "execution_count": 46,
     "metadata": {},
     "output_type": "execute_result"
    }
   ],
   "source": [
    "df_inf['age'].value_counts()"
   ]
  },
  {
   "cell_type": "markdown",
   "metadata": {},
   "source": [
    "### Hypothesis Testing： Is there a significant difference between males and females mean age?\n",
    "\n",
    "Null Hypothesis: There is no significant difference between males and females mean age when choosing U.S. for their country of destination.\n",
    "\n",
    "Alternate Hypothesis: There is a significant difference between males and females mean age when choosing U.S. for their country of destination. \n",
    "\n",
    "We will assume our significance level, $\\alpha$ to be 0.05."
   ]
  },
  {
   "cell_type": "code",
   "execution_count": 104,
   "metadata": {},
   "outputs": [
    {
     "data": {
      "text/html": [
       "<div>\n",
       "<style>\n",
       "    .dataframe thead tr:only-child th {\n",
       "        text-align: right;\n",
       "    }\n",
       "\n",
       "    .dataframe thead th {\n",
       "        text-align: left;\n",
       "    }\n",
       "\n",
       "    .dataframe tbody tr th {\n",
       "        vertical-align: top;\n",
       "    }\n",
       "</style>\n",
       "<table border=\"1\" class=\"dataframe\">\n",
       "  <thead>\n",
       "    <tr style=\"text-align: right;\">\n",
       "      <th></th>\n",
       "      <th>id</th>\n",
       "      <th>gender</th>\n",
       "      <th>country_destination</th>\n",
       "      <th>age</th>\n",
       "    </tr>\n",
       "  </thead>\n",
       "  <tbody>\n",
       "    <tr>\n",
       "      <th>2</th>\n",
       "      <td>4ft3gnwmtx</td>\n",
       "      <td>FEMALE</td>\n",
       "      <td>US</td>\n",
       "      <td>56.0</td>\n",
       "    </tr>\n",
       "    <tr>\n",
       "      <th>4</th>\n",
       "      <td>87mebub9p4</td>\n",
       "      <td>-unknown-</td>\n",
       "      <td>US</td>\n",
       "      <td>41.0</td>\n",
       "    </tr>\n",
       "    <tr>\n",
       "      <th>6</th>\n",
       "      <td>lsw9q7uk0j</td>\n",
       "      <td>FEMALE</td>\n",
       "      <td>US</td>\n",
       "      <td>46.0</td>\n",
       "    </tr>\n",
       "    <tr>\n",
       "      <th>7</th>\n",
       "      <td>0d01nltbrs</td>\n",
       "      <td>FEMALE</td>\n",
       "      <td>US</td>\n",
       "      <td>47.0</td>\n",
       "    </tr>\n",
       "    <tr>\n",
       "      <th>8</th>\n",
       "      <td>a1vcnhxeij</td>\n",
       "      <td>FEMALE</td>\n",
       "      <td>US</td>\n",
       "      <td>50.0</td>\n",
       "    </tr>\n",
       "  </tbody>\n",
       "</table>\n",
       "</div>"
      ],
      "text/plain": [
       "           id     gender country_destination   age\n",
       "2  4ft3gnwmtx     FEMALE                  US  56.0\n",
       "4  87mebub9p4  -unknown-                  US  41.0\n",
       "6  lsw9q7uk0j     FEMALE                  US  46.0\n",
       "7  0d01nltbrs     FEMALE                  US  47.0\n",
       "8  a1vcnhxeij     FEMALE                  US  50.0"
      ]
     },
     "execution_count": 104,
     "metadata": {},
     "output_type": "execute_result"
    }
   ],
   "source": [
    "df_inf.head()"
   ]
  },
  {
   "cell_type": "code",
   "execution_count": 105,
   "metadata": {},
   "outputs": [
    {
     "data": {
      "text/plain": [
       "count     60485\n",
       "unique       10\n",
       "top          US\n",
       "freq      48241\n",
       "Name: country_destination, dtype: object"
      ]
     },
     "execution_count": 105,
     "metadata": {},
     "output_type": "execute_result"
    }
   ],
   "source": [
    "df_inf.country_destination.describe()"
   ]
  },
  {
   "cell_type": "code",
   "execution_count": 50,
   "metadata": {},
   "outputs": [
    {
     "data": {
      "text/plain": [
       "count      60485\n",
       "unique         3\n",
       "top       FEMALE\n",
       "freq       26874\n",
       "Name: gender, dtype: object"
      ]
     },
     "execution_count": 50,
     "metadata": {},
     "output_type": "execute_result"
    }
   ],
   "source": [
    "df_inf.gender.describe()"
   ]
  },
  {
   "cell_type": "code",
   "execution_count": 106,
   "metadata": {},
   "outputs": [
    {
     "data": {
      "text/plain": [
       "array(['US', 'CA', 'FR', 'IT', 'GB', 'ES', 'NL', 'DE', 'AU', 'PT'], dtype=object)"
      ]
     },
     "execution_count": 106,
     "metadata": {},
     "output_type": "execute_result"
    }
   ],
   "source": [
    "df_inf.country_destination.unique()"
   ]
  },
  {
   "cell_type": "code",
   "execution_count": 48,
   "metadata": {},
   "outputs": [
    {
     "data": {
      "text/plain": [
       "array([  56.,   41.,   46.,   47.,   50.,   36.,   33.,   31.,   29.,\n",
       "         30.,   40.,   26.,   32.,   35.,   37.,   42.,   44.,   34.,\n",
       "         19.,   52.,   57.,   49.,   54.,   28.,   69.,   43.,   39.,\n",
       "         25.,   65.,   38.,   63.,   18.,    5.,   45.,   60.,   48.,\n",
       "         51.,   61.,   64.,   70.,   67.,   55.,   73.,  104.,   66.,\n",
       "        105.,   68.,   27.,   53.,   58.,   75.,   59.,   79.,   62.,\n",
       "         72.,    4.,   24.,  101.,   98.,   74.,   23.,   87.,   92.,\n",
       "         71.,   21.,   15.,   22.,   78.,   86.,  103.,   81.,   95.,\n",
       "         82.,   77.,  107.,   85.,   17.,  115.,   83.,  110.,   20.,\n",
       "        102.,   91.,   97.,   88.,  113.,   93.,  106.,   80.,  109.,\n",
       "         76.,   96.,  108.,  100.,  111.,   90.,   99.,   89.,   84.,\n",
       "          2.,   16.])"
      ]
     },
     "execution_count": 48,
     "metadata": {},
     "output_type": "execute_result"
    }
   ],
   "source": [
    "df_inf.age.unique()"
   ]
  },
  {
   "cell_type": "code",
   "execution_count": 63,
   "metadata": {},
   "outputs": [],
   "source": [
    "df_inf = pd.DataFrame(df_inf)\n",
    "df_inf.to_csv('inferential_statistics.csv')"
   ]
  },
  {
   "cell_type": "code",
   "execution_count": 28,
   "metadata": {
    "collapsed": true
   },
   "outputs": [],
   "source": [
    "import matplotlib.pyplot as plt\n",
    "import seaborn as sns\n",
    "import numpy as np\n",
    "%matplotlib inline\n",
    "from scipy.stats import norm\n",
    "import scipy.stats\n",
    "import math"
   ]
  },
  {
   "cell_type": "code",
   "execution_count": 78,
   "metadata": {},
   "outputs": [
    {
     "name": "stdout",
     "output_type": "stream",
     "text": [
      "(22947, 4)\n"
     ]
    },
    {
     "data": {
      "text/html": [
       "<div>\n",
       "<style>\n",
       "    .dataframe thead tr:only-child th {\n",
       "        text-align: right;\n",
       "    }\n",
       "\n",
       "    .dataframe thead th {\n",
       "        text-align: left;\n",
       "    }\n",
       "\n",
       "    .dataframe tbody tr th {\n",
       "        vertical-align: top;\n",
       "    }\n",
       "</style>\n",
       "<table border=\"1\" class=\"dataframe\">\n",
       "  <thead>\n",
       "    <tr style=\"text-align: right;\">\n",
       "      <th></th>\n",
       "      <th>id</th>\n",
       "      <th>gender</th>\n",
       "      <th>country_destination</th>\n",
       "      <th>age</th>\n",
       "    </tr>\n",
       "  </thead>\n",
       "  <tbody>\n",
       "    <tr>\n",
       "      <th>21</th>\n",
       "      <td>qsibmuz9sx</td>\n",
       "      <td>MALE</td>\n",
       "      <td>US</td>\n",
       "      <td>30.0</td>\n",
       "    </tr>\n",
       "    <tr>\n",
       "      <th>58</th>\n",
       "      <td>fp6ndcm5ak</td>\n",
       "      <td>MALE</td>\n",
       "      <td>US</td>\n",
       "      <td>52.0</td>\n",
       "    </tr>\n",
       "    <tr>\n",
       "      <th>64</th>\n",
       "      <td>0xvbruzuzz</td>\n",
       "      <td>MALE</td>\n",
       "      <td>CA</td>\n",
       "      <td>35.0</td>\n",
       "    </tr>\n",
       "    <tr>\n",
       "      <th>85</th>\n",
       "      <td>6qx6xl5eho</td>\n",
       "      <td>MALE</td>\n",
       "      <td>US</td>\n",
       "      <td>33.0</td>\n",
       "    </tr>\n",
       "    <tr>\n",
       "      <th>96</th>\n",
       "      <td>4ktx9s53w5</td>\n",
       "      <td>MALE</td>\n",
       "      <td>US</td>\n",
       "      <td>34.0</td>\n",
       "    </tr>\n",
       "  </tbody>\n",
       "</table>\n",
       "</div>"
      ],
      "text/plain": [
       "            id gender country_destination   age\n",
       "21  qsibmuz9sx   MALE                  US  30.0\n",
       "58  fp6ndcm5ak   MALE                  US  52.0\n",
       "64  0xvbruzuzz   MALE                  CA  35.0\n",
       "85  6qx6xl5eho   MALE                  US  33.0\n",
       "96  4ktx9s53w5   MALE                  US  34.0"
      ]
     },
     "execution_count": 78,
     "metadata": {},
     "output_type": "execute_result"
    }
   ],
   "source": [
    "# Male Age\n",
    "men = df_inf[df_inf.gender == 'MALE']\n",
    "print(men.shape)\n",
    "men.head()"
   ]
  },
  {
   "cell_type": "code",
   "execution_count": 109,
   "metadata": {},
   "outputs": [
    {
     "name": "stdout",
     "output_type": "stream",
     "text": [
      "37.02897982307056\n",
      "12.46880134889663\n"
     ]
    }
   ],
   "source": [
    "men_mean_age = men.age.mean()\n",
    "print(men_mean_age)\n",
    "\n",
    "men_std_age = men.age.std()\n",
    "print(men_std_age)"
   ]
  },
  {
   "cell_type": "code",
   "execution_count": 83,
   "metadata": {},
   "outputs": [
    {
     "name": "stdout",
     "output_type": "stream",
     "text": [
      "(26874, 4)\n"
     ]
    },
    {
     "data": {
      "text/html": [
       "<div>\n",
       "<style>\n",
       "    .dataframe thead tr:only-child th {\n",
       "        text-align: right;\n",
       "    }\n",
       "\n",
       "    .dataframe thead th {\n",
       "        text-align: left;\n",
       "    }\n",
       "\n",
       "    .dataframe tbody tr th {\n",
       "        vertical-align: top;\n",
       "    }\n",
       "</style>\n",
       "<table border=\"1\" class=\"dataframe\">\n",
       "  <thead>\n",
       "    <tr style=\"text-align: right;\">\n",
       "      <th></th>\n",
       "      <th>id</th>\n",
       "      <th>gender</th>\n",
       "      <th>country_destination</th>\n",
       "      <th>age</th>\n",
       "    </tr>\n",
       "  </thead>\n",
       "  <tbody>\n",
       "    <tr>\n",
       "      <th>2</th>\n",
       "      <td>4ft3gnwmtx</td>\n",
       "      <td>FEMALE</td>\n",
       "      <td>US</td>\n",
       "      <td>56.0</td>\n",
       "    </tr>\n",
       "    <tr>\n",
       "      <th>6</th>\n",
       "      <td>lsw9q7uk0j</td>\n",
       "      <td>FEMALE</td>\n",
       "      <td>US</td>\n",
       "      <td>46.0</td>\n",
       "    </tr>\n",
       "    <tr>\n",
       "      <th>7</th>\n",
       "      <td>0d01nltbrs</td>\n",
       "      <td>FEMALE</td>\n",
       "      <td>US</td>\n",
       "      <td>47.0</td>\n",
       "    </tr>\n",
       "    <tr>\n",
       "      <th>8</th>\n",
       "      <td>a1vcnhxeij</td>\n",
       "      <td>FEMALE</td>\n",
       "      <td>US</td>\n",
       "      <td>50.0</td>\n",
       "    </tr>\n",
       "    <tr>\n",
       "      <th>10</th>\n",
       "      <td>yuuqmid2rp</td>\n",
       "      <td>FEMALE</td>\n",
       "      <td>US</td>\n",
       "      <td>36.0</td>\n",
       "    </tr>\n",
       "  </tbody>\n",
       "</table>\n",
       "</div>"
      ],
      "text/plain": [
       "            id  gender country_destination   age\n",
       "2   4ft3gnwmtx  FEMALE                  US  56.0\n",
       "6   lsw9q7uk0j  FEMALE                  US  46.0\n",
       "7   0d01nltbrs  FEMALE                  US  47.0\n",
       "8   a1vcnhxeij  FEMALE                  US  50.0\n",
       "10  yuuqmid2rp  FEMALE                  US  36.0"
      ]
     },
     "execution_count": 83,
     "metadata": {},
     "output_type": "execute_result"
    }
   ],
   "source": [
    "# Female Age\n",
    "female = df_inf[df_inf.gender == 'FEMALE']\n",
    "print(female.shape)\n",
    "female.head()"
   ]
  },
  {
   "cell_type": "code",
   "execution_count": 115,
   "metadata": {},
   "outputs": [
    {
     "name": "stdout",
     "output_type": "stream",
     "text": [
      "36.19301183299844\n",
      "12.926534510264961\n"
     ]
    }
   ],
   "source": [
    "female_mean_age = female.age.mean()\n",
    "print(female_mean_age)\n",
    "\n",
    "female_std_age = female.age.std()\n",
    "print(female_std_age)"
   ]
  },
  {
   "cell_type": "code",
   "execution_count": 142,
   "metadata": {},
   "outputs": [
    {
     "name": "stdout",
     "output_type": "stream",
     "text": [
      "Mean difference is: 0.8359679900721204\n",
      "Standard error is: 0.11398663147877403\n"
     ]
    }
   ],
   "source": [
    "# Diference in mean of Male and Female age\n",
    "\n",
    "mean_diff = men_mean_age - female_mean_age\n",
    "print(\"Mean difference is:\", mean_diff)\n",
    "\n",
    "# Standard Error Calculation\n",
    "\n",
    "SE=((men_std_age**2)/22947 + (female_std_age**2)/26874)**0.5\n",
    "print(\"Standard error is:\", SE)"
   ]
  },
  {
   "cell_type": "code",
   "execution_count": 143,
   "metadata": {},
   "outputs": [
    {
     "name": "stdout",
     "output_type": "stream",
     "text": [
      "7.333912575772448\n",
      "0.023657711289\n"
     ]
    }
   ],
   "source": [
    "# Use 0.05 Significance level in two sample t-test\n",
    "t_val=((men_mean_age - female_mean_age)-0)/SE\n",
    "print(t_val)\n",
    "\n",
    "# two-sided pvalue = Prob(abs(t)>tt)\n",
    "p_value = stats.t.sf(np.abs(2.29), 128)*2  \n",
    "print(p_value)"
   ]
  },
  {
   "cell_type": "code",
   "execution_count": 88,
   "metadata": {},
   "outputs": [
    {
     "name": "stdout",
     "output_type": "stream",
     "text": [
      "Ho that mean of female and male age are the same will be rejected.\n",
      "There is significance difference between male and female mean age.\n"
     ]
    }
   ],
   "source": [
    "if p_value < 0.05:\n",
    "    print('Ho that mean of female and male age are the same will be rejected.')\n",
    "    print('There is significance difference between male and female mean age.')\n",
    "else: \n",
    "    print('Ho: Mean of female and male age are the same IS TRUE!')"
   ]
  },
  {
   "cell_type": "code",
   "execution_count": null,
   "metadata": {
    "collapsed": true
   },
   "outputs": [],
   "source": []
  },
  {
   "cell_type": "markdown",
   "metadata": {},
   "source": [
    "### Hypothesis Testing： Is there a significant difference between males and females mean age?\n",
    "\n",
    "Null Hypothesis: There is no significant difference between males and females mean age when choosing U.S. for their country of destination.\n",
    "\n",
    "Alternate Hypothesis: There is a significant difference between males and females mean age when choosing U.S. for their country of destination. \n",
    "\n",
    "We will assume our significance level, $\\alpha$ to be 0.05."
   ]
  },
  {
   "cell_type": "code",
   "execution_count": 144,
   "metadata": {},
   "outputs": [
    {
     "data": {
      "text/plain": [
       "48241"
      ]
     },
     "execution_count": 144,
     "metadata": {},
     "output_type": "execute_result"
    }
   ],
   "source": [
    "len(us)"
   ]
  },
  {
   "cell_type": "code",
   "execution_count": 119,
   "metadata": {},
   "outputs": [
    {
     "name": "stdout",
     "output_type": "stream",
     "text": [
      "(48241, 4)\n"
     ]
    },
    {
     "data": {
      "text/html": [
       "<div>\n",
       "<style>\n",
       "    .dataframe thead tr:only-child th {\n",
       "        text-align: right;\n",
       "    }\n",
       "\n",
       "    .dataframe thead th {\n",
       "        text-align: left;\n",
       "    }\n",
       "\n",
       "    .dataframe tbody tr th {\n",
       "        vertical-align: top;\n",
       "    }\n",
       "</style>\n",
       "<table border=\"1\" class=\"dataframe\">\n",
       "  <thead>\n",
       "    <tr style=\"text-align: right;\">\n",
       "      <th></th>\n",
       "      <th>id</th>\n",
       "      <th>gender</th>\n",
       "      <th>country_destination</th>\n",
       "      <th>age</th>\n",
       "    </tr>\n",
       "  </thead>\n",
       "  <tbody>\n",
       "    <tr>\n",
       "      <th>2</th>\n",
       "      <td>4ft3gnwmtx</td>\n",
       "      <td>FEMALE</td>\n",
       "      <td>US</td>\n",
       "      <td>56.0</td>\n",
       "    </tr>\n",
       "    <tr>\n",
       "      <th>4</th>\n",
       "      <td>87mebub9p4</td>\n",
       "      <td>-unknown-</td>\n",
       "      <td>US</td>\n",
       "      <td>41.0</td>\n",
       "    </tr>\n",
       "    <tr>\n",
       "      <th>6</th>\n",
       "      <td>lsw9q7uk0j</td>\n",
       "      <td>FEMALE</td>\n",
       "      <td>US</td>\n",
       "      <td>46.0</td>\n",
       "    </tr>\n",
       "    <tr>\n",
       "      <th>7</th>\n",
       "      <td>0d01nltbrs</td>\n",
       "      <td>FEMALE</td>\n",
       "      <td>US</td>\n",
       "      <td>47.0</td>\n",
       "    </tr>\n",
       "    <tr>\n",
       "      <th>8</th>\n",
       "      <td>a1vcnhxeij</td>\n",
       "      <td>FEMALE</td>\n",
       "      <td>US</td>\n",
       "      <td>50.0</td>\n",
       "    </tr>\n",
       "  </tbody>\n",
       "</table>\n",
       "</div>"
      ],
      "text/plain": [
       "           id     gender country_destination   age\n",
       "2  4ft3gnwmtx     FEMALE                  US  56.0\n",
       "4  87mebub9p4  -unknown-                  US  41.0\n",
       "6  lsw9q7uk0j     FEMALE                  US  46.0\n",
       "7  0d01nltbrs     FEMALE                  US  47.0\n",
       "8  a1vcnhxeij     FEMALE                  US  50.0"
      ]
     },
     "execution_count": 119,
     "metadata": {},
     "output_type": "execute_result"
    }
   ],
   "source": [
    "us = df_inf[df_inf.country_destination == 'US']\n",
    "print(us.shape)\n",
    "us.head()"
   ]
  },
  {
   "cell_type": "code",
   "execution_count": 135,
   "metadata": {},
   "outputs": [
    {
     "name": "stdout",
     "output_type": "stream",
     "text": [
      "(21194, 4)\n"
     ]
    }
   ],
   "source": [
    "us_female = us[us.gender == 'FEMALE']\n",
    "print(us_female.shape)"
   ]
  },
  {
   "cell_type": "code",
   "execution_count": 136,
   "metadata": {},
   "outputs": [
    {
     "name": "stdout",
     "output_type": "stream",
     "text": [
      "(18435, 4)\n"
     ]
    }
   ],
   "source": [
    "us_male = us[us.gender == 'MALE']\n",
    "print(us_male.shape)"
   ]
  },
  {
   "cell_type": "code",
   "execution_count": 120,
   "metadata": {},
   "outputs": [
    {
     "name": "stdout",
     "output_type": "stream",
     "text": [
      "36.90182624738293\n"
     ]
    }
   ],
   "source": [
    "us_mean_age = us.age.mean()\n",
    "print(us_mean_age)"
   ]
  },
  {
   "cell_type": "code",
   "execution_count": 121,
   "metadata": {},
   "outputs": [
    {
     "name": "stdout",
     "output_type": "stream",
     "text": [
      "36.124469189393224\n",
      "12.855316909871457\n"
     ]
    }
   ],
   "source": [
    "us_female_mean_age = us[us.gender == 'FEMALE'].age.mean()\n",
    "print(us_female_mean_age)\n",
    "\n",
    "us_female_std_age = us[us.gender == 'FEMALE'].age.std()\n",
    "print(us_female_std_age)"
   ]
  },
  {
   "cell_type": "code",
   "execution_count": 122,
   "metadata": {},
   "outputs": [
    {
     "name": "stdout",
     "output_type": "stream",
     "text": [
      "36.71250339029021\n",
      "12.180975629966845\n"
     ]
    }
   ],
   "source": [
    "us_male_mean_age = us[us.gender == 'MALE'].age.mean()\n",
    "print(us_male_mean_age)\n",
    "\n",
    "us_male_std_age = us[us.gender == 'MALE'].age.std()\n",
    "print(us_male_std_age)"
   ]
  },
  {
   "cell_type": "code",
   "execution_count": 139,
   "metadata": {},
   "outputs": [
    {
     "name": "stdout",
     "output_type": "stream",
     "text": [
      "Mean difference is: 0.5880342008969848\n",
      "Standard error is: 0.12588114673636702\n"
     ]
    }
   ],
   "source": [
    "# Difference in mean of Male and Female age when choose US for country destination\n",
    "\n",
    "mean_diff = us_male_mean_age - us_female_mean_age\n",
    "print(\"Mean difference is:\", mean_diff)\n",
    "\n",
    "# Standard Error Calculation\n",
    "\n",
    "SE=((us_male_std_age**2)/18435 + (us_female_std_age**2)/21194)**0.5\n",
    "print(\"Standard error is:\", SE)"
   ]
  },
  {
   "cell_type": "code",
   "execution_count": 146,
   "metadata": {},
   "outputs": [
    {
     "name": "stdout",
     "output_type": "stream",
     "text": [
      "5.158799705441645\n",
      "0.022025612408\n"
     ]
    }
   ],
   "source": [
    "# Use 0.05 Significance level in two sample t-test\n",
    "t_val=((us_male_mean_age - us_female_mean_age)-0)/SE\n",
    "print(t_val)\n",
    "\n",
    "# two-sided pvalue = Prob(abs(t)>tt)\n",
    "p_value = stats.t.sf(np.abs(2.29), 48241) * 2\n",
    "print(p_value)"
   ]
  },
  {
   "cell_type": "code",
   "execution_count": 131,
   "metadata": {},
   "outputs": [
    {
     "name": "stdout",
     "output_type": "stream",
     "text": [
      "Ho: when choosing U.S. for country of destination the mean of female and male age are the same will be REJECTED.\n",
      "\n",
      "There is significance difference between male and female mean age when choosing U.S. for country of destination.\n",
      "\n"
     ]
    }
   ],
   "source": [
    "if p_value < 0.05:\n",
    "    print('Ho: when choosing U.S. for country of destination the mean of female and male age are the same will be REJECTED.\\n')\n",
    "    print('There is significance difference between male and female mean age when choosing U.S. for country of destination.\\n')\n",
    "else:\n",
    "    print('Ho: when choosing U.S. for country of destination the mean of female and male age are the same IS TRUE!')"
   ]
  },
  {
   "cell_type": "code",
   "execution_count": null,
   "metadata": {
    "collapsed": true
   },
   "outputs": [],
   "source": []
  },
  {
   "cell_type": "code",
   "execution_count": null,
   "metadata": {
    "collapsed": true
   },
   "outputs": [],
   "source": []
  },
  {
   "cell_type": "code",
   "execution_count": null,
   "metadata": {
    "collapsed": true
   },
   "outputs": [],
   "source": []
  },
  {
   "cell_type": "code",
   "execution_count": null,
   "metadata": {
    "collapsed": true
   },
   "outputs": [],
   "source": []
  },
  {
   "cell_type": "code",
   "execution_count": null,
   "metadata": {
    "collapsed": true
   },
   "outputs": [],
   "source": []
  },
  {
   "cell_type": "code",
   "execution_count": null,
   "metadata": {
    "collapsed": true
   },
   "outputs": [],
   "source": []
  },
  {
   "cell_type": "code",
   "execution_count": null,
   "metadata": {
    "collapsed": true
   },
   "outputs": [],
   "source": []
  },
  {
   "cell_type": "code",
   "execution_count": null,
   "metadata": {
    "collapsed": true
   },
   "outputs": [],
   "source": []
  },
  {
   "cell_type": "code",
   "execution_count": null,
   "metadata": {
    "collapsed": true
   },
   "outputs": [],
   "source": []
  },
  {
   "cell_type": "code",
   "execution_count": null,
   "metadata": {
    "collapsed": true
   },
   "outputs": [],
   "source": []
  },
  {
   "cell_type": "code",
   "execution_count": null,
   "metadata": {},
   "outputs": [],
   "source": []
  },
  {
   "cell_type": "code",
   "execution_count": null,
   "metadata": {
    "collapsed": true
   },
   "outputs": [],
   "source": []
  },
  {
   "cell_type": "code",
   "execution_count": null,
   "metadata": {
    "collapsed": true
   },
   "outputs": [],
   "source": []
  },
  {
   "cell_type": "code",
   "execution_count": null,
   "metadata": {
    "collapsed": true
   },
   "outputs": [],
   "source": []
  },
  {
   "cell_type": "code",
   "execution_count": null,
   "metadata": {
    "collapsed": true
   },
   "outputs": [],
   "source": []
  },
  {
   "cell_type": "code",
   "execution_count": null,
   "metadata": {
    "collapsed": true
   },
   "outputs": [],
   "source": []
  }
 ],
 "metadata": {
  "kernelspec": {
   "display_name": "Python 3",
   "language": "python",
   "name": "python3"
  },
  "language_info": {
   "codemirror_mode": {
    "name": "ipython",
    "version": 3
   },
   "file_extension": ".py",
   "mimetype": "text/x-python",
   "name": "python",
   "nbconvert_exporter": "python",
   "pygments_lexer": "ipython3",
   "version": "3.6.2"
  }
 },
 "nbformat": 4,
 "nbformat_minor": 2
}
